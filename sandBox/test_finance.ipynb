{
 "cells": [
  {
   "cell_type": "code",
   "execution_count": 1,
   "metadata": {},
   "outputs": [],
   "source": [
    "import yfinance as yf\n"
   ]
  },
  {
   "cell_type": "code",
   "execution_count": 2,
   "metadata": {},
   "outputs": [
    {
     "name": "stdout",
     "output_type": "stream",
     "text": [
      "IBM is valid: True\n",
      "MSFT is valid: True\n"
     ]
    },
    {
     "name": "stderr",
     "output_type": "stream",
     "text": [
      "AABC: No price data found, symbol may be delisted (period=1mo)\n"
     ]
    },
    {
     "name": "stdout",
     "output_type": "stream",
     "text": [
      "AABC is valid: False\n"
     ]
    }
   ],
   "source": [
    "\n",
    "def is_valid(symbol: str):\n",
    "    tkt = yf.Ticker(symbol)\n",
    "    hist = tkt.history(period=\"1mo\")\n",
    "\n",
    "    if len(hist.index) > 2:\n",
    "        return True\n",
    "    else:\n",
    "        return False\n",
    "    \n",
    "print(f'IBM is valid: {is_valid(\"IBM\")}')\n",
    "\n",
    "print(f'MSFT is valid: {is_valid(\"MSFT\")}')\n",
    "\n",
    "print(f'AABC is valid: {is_valid(\"AABC\")}')"
   ]
  },
  {
   "cell_type": "code",
   "execution_count": null,
   "metadata": {},
   "outputs": [],
   "source": []
  }
 ],
 "metadata": {
  "kernelspec": {
   "display_name": "kivyEnv",
   "language": "python",
   "name": "python3"
  },
  "language_info": {
   "codemirror_mode": {
    "name": "ipython",
    "version": 3
   },
   "file_extension": ".py",
   "mimetype": "text/x-python",
   "name": "python",
   "nbconvert_exporter": "python",
   "pygments_lexer": "ipython3",
   "version": "3.11.5"
  }
 },
 "nbformat": 4,
 "nbformat_minor": 2
}
